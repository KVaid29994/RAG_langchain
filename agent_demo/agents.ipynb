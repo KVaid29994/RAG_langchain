{
 "cells": [
  {
   "cell_type": "markdown",
   "id": "6030f2f5",
   "metadata": {},
   "source": [
    "## 🧠 LangChain Agent Design Patterns"
   ]
  },
  {
   "cell_type": "markdown",
   "id": "784c0089",
   "metadata": {},
   "source": [
    "LangChain provides various agent design patterns to manage how an LLM interacts with tools. Each pattern suits different complexity levels of tasks, from simple decisions to multi-step reasoning.\n",
    "\n"
   ]
  },
  {
   "cell_type": "markdown",
   "id": "3b472cda",
   "metadata": {},
   "source": [
    "| Pattern                | Planning | Execution Style    | Tools Used? | Memory Support |\n",
    "| ---------------------- | -------- | ------------------ | ----------- | -------------- |\n",
    "| ReAct                  | ❌        | Interleaved        | ✅           | ❌              |\n",
    "| Plan and Execute       | ✅        | Separated phases   | ✅           | Optional       |\n",
    "| Conversational ReAct   | ❌        | Interleaved + Chat | ✅           | ✅              |\n",
    "| Self-Ask with Search   | ✅        | Guided question    | ✅           | ❌              |\n",
    "| Function Calling Agent | ❌        | Direct tool use    | ✅           | Optional       |\n",
    "| Reflection Agent       | ✅        | Reflective loops   | ✅           | ✅              |\n",
    "| Toolkit Pattern        | ❌        | Modular tools      | ✅           | Optional       |\n"
   ]
  },
  {
   "cell_type": "markdown",
   "id": "beb28099",
   "metadata": {},
   "source": []
  }
 ],
 "metadata": {
  "language_info": {
   "name": "python"
  }
 },
 "nbformat": 4,
 "nbformat_minor": 5
}
