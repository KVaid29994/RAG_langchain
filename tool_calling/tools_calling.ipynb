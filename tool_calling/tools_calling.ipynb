{
 "cells": [
  {
   "cell_type": "markdown",
   "id": "af42d56c",
   "metadata": {},
   "source": [
    "## 🔗 What is Tool Binding in LangChain?\n",
    "\n",
    "In LangChain, Tool Binding refers to the process of associating a tool with a specific function or model, so that agents or LLMs can call it correctly, especially in function/tool calling scenarios like OpenAI’s tool_choice=\"auto\""
   ]
  },
  {
   "cell_type": "markdown",
   "id": "1576a223",
   "metadata": {},
   "source": [
    "📌 Definition:\n",
    "Tool binding means associating a LangChain Tool (or StructuredTool) with the function schema expected by LLMs that support tool calling — like OpenAI’s functions or tool_choice.\n",
    "\n",
    "This lets the LLM:\n",
    "\n",
    "- Understand what arguments a tool needs (via a schema)\n",
    "\n",
    "- Automatically call tools with correct input\n",
    "\n",
    "- Stay structured in how it interacts with external functions\n",
    "\n"
   ]
  },
  {
   "cell_type": "markdown",
   "id": "c9ed0353",
   "metadata": {},
   "source": [
    "### 🧠 Example Scenario\n",
    "Let’s say you have a tool like"
   ]
  },
  {
   "cell_type": "markdown",
   "id": "8300915a",
   "metadata": {},
   "source": [
    "``` python \n",
    "from langchain.tools import tool\n",
    "\n",
    "@tool\n",
    "def get_weather(city: str, unit: str = \"Celsius\") -> str:\n",
    "    return f\"The weather in {city} is 25° {unit}.\"\n"
   ]
  },
  {
   "cell_type": "markdown",
   "id": "b3fd54fa",
   "metadata": {},
   "source": [
    "This tool:\n",
    "\n",
    "- Has a name, description, and input schema\n",
    "- Can be bound to the LLM so it knows how to call it correctly"
   ]
  },
  {
   "cell_type": "markdown",
   "id": "7c7bfa5a",
   "metadata": {},
   "source": [
    "### ⚙️ How Tool Binding Works\n",
    "LangChain will:\n",
    "- Extract the schema from your tool (via pydantic or type hints)\n",
    "- Register it with the LLM interface (e.g., OpenAI function-calling)\n",
    "- Handle invocation if the LLM selects that tool in its response"
   ]
  },
  {
   "cell_type": "markdown",
   "id": "dded729d",
   "metadata": {},
   "source": [
    "---"
   ]
  },
  {
   "cell_type": "markdown",
   "id": "6f5b66ab",
   "metadata": {},
   "source": [
    "# 🛠️ Tool Calling in LangChai"
   ]
  },
  {
   "cell_type": "markdown",
   "id": "bb131f2e",
   "metadata": {},
   "source": [
    "📌 What is Tool Calling?\n",
    "Tool calling in LangChain refers to the process where a Language Model (LLM) invokes external functions (tools) to perform specific tasks — such as querying a database, fetching weather info, or running calculations — using structured input.\n",
    "\n",
    "This is powered by modern LLMs (like OpenAI’s GPT-4 with tool/function calling) and enables LLMs to interact with the real world."
   ]
  },
  {
   "cell_type": "markdown",
   "id": "3ddecb7e",
   "metadata": {},
   "source": [
    "🤖 How Does It Work?\n",
    "- Define a Tool with a name, description, and schema.\n",
    "- Bind it to an LLM that supports tool calling.\n",
    "- The LLM decides when to call the tool based on user input.\n",
    "- LangChain handles the tool execution and passes results back to the LLM."
   ]
  },
  {
   "cell_type": "markdown",
   "id": "22db04dc",
   "metadata": {},
   "source": [
    "## **⚙️ What is Tool Execution in LangChain?**\n",
    "\n",
    "✅ Definition:\n",
    "Tool execution is the runtime step where LangChain calls the Python function (a tool) with the arguments provided by the LLM after it has selected the tool during a conversation or task.\n",
    "\n",
    "🔁 Tool Execution Lifecycle\n",
    "Tool is registered to an agent\n",
    "\n",
    "- LLM selects a tool based on the user prompt\n",
    "\n",
    "- LLM generates input arguments for that tool\n",
    "\n",
    "- LangChain executes the tool function using those arguments\n",
    "\n",
    "- Tool’s output is returned to the LLM (and user)\n",
    "\n"
   ]
  },
  {
   "cell_type": "markdown",
   "id": "f152640a",
   "metadata": {},
   "source": [
    "| Component                             | Responsibility                         |\n",
    "| ------------------------------------- | -------------------------------------- |\n",
    "| `Tool` or `StructuredTool`            | Defines execution logic                |\n",
    "| `AgentExecutor` or `RunnableAgent`    | Decides **when and which tool** to run |\n",
    "| `RunnableConfig` / `callback_manager` | Optionally tracks execution steps      |\n"
   ]
  },
  {
   "cell_type": "markdown",
   "id": "0111486a",
   "metadata": {},
   "source": [
    "---"
   ]
  },
  {
   "cell_type": "markdown",
   "id": "46d38082",
   "metadata": {},
   "source": [
    "## 🧪 What Are Injected Tool Arguments?"
   ]
  },
  {
   "cell_type": "markdown",
   "id": "30dbe2bb",
   "metadata": {},
   "source": [
    "Normally, when an LLM calls a tool, it provides all arguments in a structured JSON-like format. But sometimes, you want to:\n",
    "\n",
    "- Predefine or fix certain arguments (e.g., api_key, user_id, or db_session)\n",
    "\n",
    "- Hide them from the LLM\n",
    "\n",
    "- Prevent hallucinations or manual specification\n",
    "\n",
    "That’s where injected arguments come in.\n",
    "\n"
   ]
  },
  {
   "cell_type": "markdown",
   "id": "29f3c938",
   "metadata": {},
   "source": [
    "| Benefit                   | Description                                                     |\n",
    "| ------------------------- | --------------------------------------------------------------- |\n",
    "| 🔒 **Security**           | Prevents LLM from accessing or modifying sensitive inputs       |\n",
    "| 🔁 **Reusability**        | Tools can be reused with injected contexts like user/session/db |\n",
    "| 🧠 **Less Hallucination** | Reduces chances of LLM guessing inputs                          |\n",
    "| 🛠️ **Cleaner Prompts**   | Keeps the LLM focused only on relevant arguments                |\n"
   ]
  },
  {
   "cell_type": "markdown",
   "id": "dbee14a5",
   "metadata": {},
   "source": []
  }
 ],
 "metadata": {
  "language_info": {
   "name": "python"
  }
 },
 "nbformat": 4,
 "nbformat_minor": 5
}
