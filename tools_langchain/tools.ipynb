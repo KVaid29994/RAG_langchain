{
 "cells": [
  {
   "cell_type": "markdown",
   "id": "e3e66a61",
   "metadata": {},
   "source": [
    "## ***🛠️ What Are Tools in LangChain & LLM Systems?***\n",
    "\n",
    ">🔹 In LangChain, “tools” refer to external functions or utilities that a language model can call during its execution to perform tasks it can’t handle internally—like web searches, math calculations, file access, APIs, or database queries.\n",
    "Think of tools as plugins or capabilities the model can invoke to augment its reasoning or action capabilities."
   ]
  },
  {
   "cell_type": "markdown",
   "id": "077e5511",
   "metadata": {},
   "source": [
    "| **Tool Type**         | **What It Does**                                | **Example**                          |\n",
    "| --------------------- | ----------------------------------------------- | ------------------------------------ |\n",
    "| `RequestsTool`        | Makes HTTP calls                                | Call APIs or scrape websites         |\n",
    "| `PythonREPLTool`      | Executes Python code                            | Math, plotting, string ops           |\n",
    "| `WikipediaAPIWrapper` | Searches Wikipedia                              | General info retrieval               |\n",
    "| `SerpAPIWrapper`      | Google/Bing-style web search                    | Fetch fresh news or links            |\n",
    "| `SQLDatabaseToolkit`  | Executes SQL on a connected DB                  | Query structured data                |\n",
    "| `VectorStoreToolkit`  | Search over vector DBs like FAISS, Chroma, etc. | RAG (retrieval-augmented generation) |\n",
    "| `SlackAPIWrapper`     | Send/read Slack messages                        | Enterprise integrations              |\n",
    "| `YouTubeSearchTool`   | Search YouTube videos                           | Media + summary applications         |\n"
   ]
  },
  {
   "cell_type": "markdown",
   "id": "a08f4e14",
   "metadata": {},
   "source": [
    "### ***🧠 Tools in LLMs (General Context)***\n",
    "\n",
    "- Whether in LangChain, OpenAI Function Calling, or other frameworks (e.g. LlamaIndex, HuggingFace Agents), tools give models the ability to act.\n",
    "\n",
    "- 🔧 Tools = Actions the LLM can take beyond generating text.\n",
    "\n",
    "Common Tool Use Cases Across LLM Frameworks:"
   ]
  },
  {
   "cell_type": "markdown",
   "id": "75895c8d",
   "metadata": {},
   "source": [
    "| **Tool Category**   | **Use Case**                                |\n",
    "| ------------------- | ------------------------------------------- |\n",
    "| Web Browsing        | Fetch real-time data                        |\n",
    "| Code Execution      | Run Python or JS                            |\n",
    "| Data Access         | Query DBs, files, spreadsheets              |\n",
    "| Search APIs         | Google, Bing, internal search               |\n",
    "| Scheduling/Calendar | Create/edit calendar events                 |\n",
    "| Email/Social Media  | Compose/send messages                       |\n",
    "| File Systems        | Read/write from a local or cloud filesystem |\n"
   ]
  },
  {
   "cell_type": "markdown",
   "id": "165a3404",
   "metadata": {},
   "source": [
    "### 🧩 How Tools Fit in the Agent Loop"
   ]
  },
  {
   "cell_type": "markdown",
   "id": "4fbab924",
   "metadata": {},
   "source": [
    "In agent-based LLM architectures (like LangChain Agents or ReAct pattern), the LLM:\n",
    "\n",
    "- Receives a user query\n",
    "\n",
    "- Thinks about how to solve it\n",
    "\n",
    "- Calls a tool if necessary (e.g., search, calculate, query database)\n",
    "\n",
    "- Gets tool response\n",
    "\n",
    "- Synthesizes a final answer\n",
    "\n"
   ]
  },
  {
   "cell_type": "markdown",
   "id": "02e50186",
   "metadata": {},
   "source": [
    "### 🛠️ Tool Types in LangChain (and LLMs): Built-in vs Custom\n",
    "\n",
    "- In any LLM framework like LangChain, tools can be broadly categorized into:\n",
    "\n"
   ]
  },
  {
   "cell_type": "markdown",
   "id": "5a21b939",
   "metadata": {},
   "source": [
    "### ***1️⃣ Built-in Tools***\n",
    "\n",
    "These are predefined tools provided by the framework, ready to use with minimal setup. They're optimized, tested, and commonly used across projects.\n",
    "\n",
    "🔧 Examples in LangChain:\n",
    "\n",
    "| Tool                  | Purpose                                             |\n",
    "| --------------------- | --------------------------------------------------- |\n",
    "| `PythonREPLTool`      | Execute Python code                                 |\n",
    "| `RequestsTool`        | Make HTTP calls                                     |\n",
    "| `SerpAPIWrapper`      | Web search via SerpAPI                              |\n",
    "| `WikipediaAPIWrapper` | Wikipedia search                                    |\n",
    "| `SQLDatabaseToolkit`  | Run SQL queries on a DB                             |\n",
    "| `VectorStoreTool`     | Retrieve docs from a vector DB (like FAISS, Chroma) |\n"
   ]
  },
  {
   "cell_type": "markdown",
   "id": "a6d021a3",
   "metadata": {},
   "source": [
    "### ***2️⃣ Custom Tools***\n",
    "\n",
    "- These are user-defined functions exposed to the LLM for special needs. You can wrap any Python function and register it as a tool.\n",
    "```python \n",
    "\n",
    "from langchain.tools import tool\n",
    "\n",
    "@tool\n",
    "def get_weather(city: str) -> str:\n",
    "    \"\"\"Returns weather for a given city\"\"\"\n",
    "    return f\"The weather in {city} is sunny.\"\n"
   ]
  },
  {
   "cell_type": "markdown",
   "id": "aa66ba68",
   "metadata": {},
   "source": [
    "🛠 You can then use this tool in an agent. It behaves like an LLM-callable API.\n",
    "\n",
    "🟢 When to use:\n",
    "\n",
    "- Domain-specific logic (e.g., stock metrics, legal APIs, ML model calls)\n",
    "\n",
    "- Integrating with internal systems or databases\n",
    "\n",
    "- Performing custom computation or filtering"
   ]
  },
  {
   "cell_type": "markdown",
   "id": "755567d9",
   "metadata": {},
   "source": [
    "###  Comparison: Built-in vs Custom Tools\n",
    "\n",
    "| Feature        | Built-in Tool 🏗️         | Custom Tool 🧩               |\n",
    "| -------------- | ------------------------- | ---------------------------- |\n",
    "| Setup effort   | Minimal                   | Manual implementation needed |\n",
    "| Flexibility    | Limited to what's offered | Full control                 |\n",
    "| Use case scope | General-purpose tasks     | Domain/goal-specific tasks   |\n",
    "| Maintained by  | LangChain/Core framework  | You or your dev team         |\n",
    "| Extensibility  | Hard to modify internals  | Fully customizable           |\n"
   ]
  },
  {
   "cell_type": "markdown",
   "id": "3da7122d",
   "metadata": {},
   "source": [
    "##  ***🛠️ Structured Tools in LangChain (pydantic-based)**\n",
    "\n",
    "### 📌 What is a Structured Tool?\n",
    "- A Structured Tool in LangChain is a special type of tool that:\n",
    "\n",
    "    - Uses a Pydantic model to define its inputs.\n",
    "\n",
    "    - Enables type-checked, auto-documented, and semantically rich tool calls.\n",
    "\n",
    "- Is useful when you want to guide LLMs to use tools with structured inputs instead of free-text.\n",
    "\n",
    "### 📦 Why Use Structured Tools?\n",
    "- ✅ Precise parameter types (e.g., int, List[str])\n",
    "- ✅ Helps LLMs call tools more accurately\n",
    "- ✅ Built-in argument validation using Pydantic\n",
    "- ✅ Better support for function calling and OpenAI Tools API\n",
    "\n"
   ]
  },
  {
   "cell_type": "markdown",
   "id": "e5cdd299",
   "metadata": {},
   "source": [
    "### 🧠 LLM Behavior\n",
    "When using structured tools in agents:\n",
    "\n",
    "The agent can understand the parameters it needs to provide.\n",
    "\n",
    "LangChain automatically exposes the args_schema in tool descriptions.\n",
    "\n",
    "Works well with OpenAI's function calling or tool calling APIs."
   ]
  },
  {
   "cell_type": "markdown",
   "id": "f63a64d7",
   "metadata": {},
   "source": [
    "## 🧰 Base Tool Classes in LangChain"
   ]
  },
  {
   "cell_type": "markdown",
   "id": "e9c8d445",
   "metadata": {},
   "source": [
    "- LangChain provides abstract base classes that define the core functionality and structure for building tools that agents can use.\n",
    "\n",
    "- These base classes help standardize tool behavior and make it easy to integrate with agents or LLM-driven workflows."
   ]
  },
  {
   "cell_type": "markdown",
   "id": "a4ae0acb",
   "metadata": {},
   "source": [
    "## 🔨 1. BaseTool\n",
    "\n",
    "### 📌 What It Is:\n",
    "BaseTool is the foundational class for defining custom tools. It allows both synchronous and asynchronous execution.\n",
    "\n",
    "🧠 Core Methods:\n",
    "name: Unique identifier for the tool.\n",
    "\n",
    "- description: Used by the agent to decide when to call it.\n",
    "\n",
    "- args_schema: (optional) A pydantic.BaseModel that defines structured inputs.\n",
    "\n",
    "- _run(*args, **kwargs): Required method to define sync logic.\n",
    "\n",
    "- _arun(*args, **kwargs): (Optional) Async logic for async agents.\n",
    "\n",
    "📦 Example:"
   ]
  },
  {
   "cell_type": "markdown",
   "id": "0b9c183e",
   "metadata": {},
   "source": [
    "``` python\n",
    "\n",
    "from langchain.tools import BaseTool\n",
    "\n",
    "class EchoTool(BaseTool):\n",
    "    name = \"echo\"\n",
    "    description = \"Returns the input string\"\n",
    "\n",
    "    def _run(self, text: str) -> str:\n",
    "        return text\n",
    "\n",
    "    def _arun(self, text: str):\n",
    "        raise NotImplementedError(\"Async not supported\")\n"
   ]
  },
  {
   "cell_type": "markdown",
   "id": "dea167b0",
   "metadata": {},
   "source": [
    "### 🧱 When to Use Which?\n"
   ]
  },
  {
   "cell_type": "markdown",
   "id": "8b5b2428",
   "metadata": {},
   "source": [
    "| Use Case                      | Use `BaseTool` | Use `Tool`                |\n",
    "| ----------------------------- | -------------- | ------------------------- |\n",
    "| Complex logic / stateful tool | ✅              | ❌                         |\n",
    "| Simple wrapper around a func  | ❌              | ✅                         |\n",
    "| Structured input via Pydantic | ✅              | ✅                         |\n",
    "| Async support needed          | ✅              | ✅ (if coroutine provided) |\n"
   ]
  },
  {
   "cell_type": "markdown",
   "id": "c09b74d6",
   "metadata": {},
   "source": [
    "All other types of tools like @tool, structured tool are built on top of BaseTool"
   ]
  },
  {
   "cell_type": "markdown",
   "id": "6262b7ae",
   "metadata": {},
   "source": [
    "## 🧰 What is a Toolkit in LangChain?\n",
    "\n",
    "A Toolkit is a helper abstraction that:\n",
    "- Groups a set of related tools (like search, querying, uploading, etc.)\n",
    "- Provides a convenient interface to register all tools at once\n",
    "- Typically comes with built-in logic to connect to external resources\n",
    "\n",
    ">> Think of it like a “plugin pack” for a specific use case.\n",
    "\n"
   ]
  },
  {
   "cell_type": "markdown",
   "id": "a136f698",
   "metadata": {},
   "source": [
    "### 📦 Common Use Case Examples\n",
    "LangChain provides ready-made toolkits for:"
   ]
  },
  {
   "cell_type": "markdown",
   "id": "a1bce530",
   "metadata": {},
   "source": [
    "| Toolkit                  | Description                                    |\n",
    "| ------------------------ | ---------------------------------------------- |\n",
    "| `SQLDatabaseToolkit`     | For querying SQL databases                     |\n",
    "| `VectorStoreToolkit`     | For interacting with vector databases          |\n",
    "| `JupyterNotebookToolkit` | For executing Python in a Jupyter context      |\n",
    "| `OpenAPIToolkit`         | For calling APIs from an OpenAPI spec          |\n",
    "| `FileManagementToolkit`  | For file upload, read, list, delete operations |\n"
   ]
  },
  {
   "cell_type": "code",
   "execution_count": null,
   "id": "4c3f1cbe",
   "metadata": {
    "vscode": {
     "languageId": "plaintext"
    }
   },
   "outputs": [],
   "source": []
  }
 ],
 "metadata": {
  "language_info": {
   "name": "python"
  }
 },
 "nbformat": 4,
 "nbformat_minor": 5
}
