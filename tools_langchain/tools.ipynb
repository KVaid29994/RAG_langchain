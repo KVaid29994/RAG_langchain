{
 "cells": [
  {
   "cell_type": "markdown",
   "id": "e3e66a61",
   "metadata": {},
   "source": [
    "## ***🛠️ What Are Tools in LangChain & LLM Systems?***\n",
    "\n",
    ">🔹 In LangChain, “tools” refer to external functions or utilities that a language model can call during its execution to perform tasks it can’t handle internally—like web searches, math calculations, file access, APIs, or database queries.\n",
    "Think of tools as plugins or capabilities the model can invoke to augment its reasoning or action capabilities."
   ]
  },
  {
   "cell_type": "markdown",
   "id": "077e5511",
   "metadata": {},
   "source": [
    "| **Tool Type**         | **What It Does**                                | **Example**                          |\n",
    "| --------------------- | ----------------------------------------------- | ------------------------------------ |\n",
    "| `RequestsTool`        | Makes HTTP calls                                | Call APIs or scrape websites         |\n",
    "| `PythonREPLTool`      | Executes Python code                            | Math, plotting, string ops           |\n",
    "| `WikipediaAPIWrapper` | Searches Wikipedia                              | General info retrieval               |\n",
    "| `SerpAPIWrapper`      | Google/Bing-style web search                    | Fetch fresh news or links            |\n",
    "| `SQLDatabaseToolkit`  | Executes SQL on a connected DB                  | Query structured data                |\n",
    "| `VectorStoreToolkit`  | Search over vector DBs like FAISS, Chroma, etc. | RAG (retrieval-augmented generation) |\n",
    "| `SlackAPIWrapper`     | Send/read Slack messages                        | Enterprise integrations              |\n",
    "| `YouTubeSearchTool`   | Search YouTube videos                           | Media + summary applications         |\n"
   ]
  },
  {
   "cell_type": "markdown",
   "id": "a08f4e14",
   "metadata": {},
   "source": [
    "### ***🧠 Tools in LLMs (General Context)***\n",
    "\n",
    "- Whether in LangChain, OpenAI Function Calling, or other frameworks (e.g. LlamaIndex, HuggingFace Agents), tools give models the ability to act.\n",
    "\n",
    "- 🔧 Tools = Actions the LLM can take beyond generating text.\n",
    "\n",
    "Common Tool Use Cases Across LLM Frameworks:"
   ]
  },
  {
   "cell_type": "markdown",
   "id": "75895c8d",
   "metadata": {},
   "source": [
    "| **Tool Category**   | **Use Case**                                |\n",
    "| ------------------- | ------------------------------------------- |\n",
    "| Web Browsing        | Fetch real-time data                        |\n",
    "| Code Execution      | Run Python or JS                            |\n",
    "| Data Access         | Query DBs, files, spreadsheets              |\n",
    "| Search APIs         | Google, Bing, internal search               |\n",
    "| Scheduling/Calendar | Create/edit calendar events                 |\n",
    "| Email/Social Media  | Compose/send messages                       |\n",
    "| File Systems        | Read/write from a local or cloud filesystem |\n"
   ]
  },
  {
   "cell_type": "markdown",
   "id": "165a3404",
   "metadata": {},
   "source": [
    "### 🧩 How Tools Fit in the Agent Loop"
   ]
  },
  {
   "cell_type": "markdown",
   "id": "4fbab924",
   "metadata": {},
   "source": [
    "In agent-based LLM architectures (like LangChain Agents or ReAct pattern), the LLM:\n",
    "\n",
    "- Receives a user query\n",
    "\n",
    "- Thinks about how to solve it\n",
    "\n",
    "- Calls a tool if necessary (e.g., search, calculate, query database)\n",
    "\n",
    "- Gets tool response\n",
    "\n",
    "- Synthesizes a final answer\n",
    "\n"
   ]
  },
  {
   "cell_type": "markdown",
   "id": "02e50186",
   "metadata": {},
   "source": [
    "### 🛠️ Tool Types in LangChain (and LLMs): Built-in vs Custom\n",
    "\n",
    "- In any LLM framework like LangChain, tools can be broadly categorized into:\n",
    "\n"
   ]
  },
  {
   "cell_type": "markdown",
   "id": "5a21b939",
   "metadata": {},
   "source": [
    "### ***1️⃣ Built-in Tools***\n",
    "\n",
    "These are predefined tools provided by the framework, ready to use with minimal setup. They're optimized, tested, and commonly used across projects.\n",
    "\n",
    "🔧 Examples in LangChain:\n",
    "\n",
    "| Tool                  | Purpose                                             |\n",
    "| --------------------- | --------------------------------------------------- |\n",
    "| `PythonREPLTool`      | Execute Python code                                 |\n",
    "| `RequestsTool`        | Make HTTP calls                                     |\n",
    "| `SerpAPIWrapper`      | Web search via SerpAPI                              |\n",
    "| `WikipediaAPIWrapper` | Wikipedia search                                    |\n",
    "| `SQLDatabaseToolkit`  | Run SQL queries on a DB                             |\n",
    "| `VectorStoreTool`     | Retrieve docs from a vector DB (like FAISS, Chroma) |\n"
   ]
  },
  {
   "cell_type": "markdown",
   "id": "a6d021a3",
   "metadata": {},
   "source": [
    "### ***2️⃣ Custom Tools***\n",
    "\n",
    "- These are user-defined functions exposed to the LLM for special needs. You can wrap any Python function and register it as a tool.\n",
    "```python \n",
    "\n",
    "from langchain.tools import tool\n",
    "\n",
    "@tool\n",
    "def get_weather(city: str) -> str:\n",
    "    \"\"\"Returns weather for a given city\"\"\"\n",
    "    return f\"The weather in {city} is sunny.\"\n"
   ]
  },
  {
   "cell_type": "markdown",
   "id": "aa66ba68",
   "metadata": {},
   "source": [
    "🛠 You can then use this tool in an agent. It behaves like an LLM-callable API.\n",
    "\n",
    "🟢 When to use:\n",
    "\n",
    "- Domain-specific logic (e.g., stock metrics, legal APIs, ML model calls)\n",
    "\n",
    "- Integrating with internal systems or databases\n",
    "\n",
    "- Performing custom computation or filtering"
   ]
  },
  {
   "cell_type": "markdown",
   "id": "755567d9",
   "metadata": {},
   "source": [
    "###  Comparison: Built-in vs Custom Tools\n",
    "\n",
    "| Feature        | Built-in Tool 🏗️         | Custom Tool 🧩               |\n",
    "| -------------- | ------------------------- | ---------------------------- |\n",
    "| Setup effort   | Minimal                   | Manual implementation needed |\n",
    "| Flexibility    | Limited to what's offered | Full control                 |\n",
    "| Use case scope | General-purpose tasks     | Domain/goal-specific tasks   |\n",
    "| Maintained by  | LangChain/Core framework  | You or your dev team         |\n",
    "| Extensibility  | Hard to modify internals  | Fully customizable           |\n"
   ]
  },
  {
   "cell_type": "markdown",
   "id": "3da7122d",
   "metadata": {},
   "source": []
  }
 ],
 "metadata": {
  "language_info": {
   "name": "python"
  }
 },
 "nbformat": 4,
 "nbformat_minor": 5
}
